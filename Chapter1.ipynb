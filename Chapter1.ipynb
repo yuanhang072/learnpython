{
 "cells": [
  {
   "cell_type": "markdown",
   "metadata": {},
   "source": [
    "这本书关心的是如何用Python对数据进行处理和清洗等操作。本书的目的是作为一个指南，讲解使用Python语言和它的一些处理数据的库和工具，这能让我们成为一个有效率的数据分析师（data analyst）。本书会告诉我们，使用Python语言的情况下，我们需要用那些工具来进行数据分析。"
   ]
  },
  {
   "cell_type": "markdown",
   "metadata": {},
   "source": [
    "我们说的数据指的是结构化的数据（structured data），比如：\n",
    "\n",
    "表格型数据，每一列有不同的类型（字符串，数字，日期等）。这种情况是我们最常见到的，常见于用tab-或逗号分隔的文件（比如CSV文件）\n",
    "多维数组（Multidimensional arrays，比如矩阵）\n",
    "用一列作为键（比如SQL中的主键和外键），整合多个表格的数据\n",
    "时间序列数据\n",
    "大部分数据都可以被转化为结构化数据，方便进行分析和建模。如果无法转化，那么我们可以从数据集中抽取特征，做成一个结构化的形式。举个例子，新闻可以被处理为单词频率表格，然后我们可以对其进行情感分析（sentiment analysis）。"
   ]
  },
  {
   "cell_type": "markdown",
   "metadata": {},
   "source": [
    "通常来说，一些任务可以归为下面几类：\n",
    "\n",
    "Interacting with the outside world （与外界交互）\n",
    "读取和写入各种文件格式，存储数据\n",
    "\n",
    "Preparation（准备）\n",
    "数据清洗和处理，方便之后的建模或分析\n",
    "\n",
    "Transformation（转换）\n",
    "对不同的数据进行分组，并使用一些数学或模型，来产生新的数据集（比如对一个大表格进行聚合操作）\n",
    "\n",
    "Modeling and computation\n",
    "把数据喂给统计模型，机器学习算法，或其他工具\n",
    "\n",
    "Presentation\n",
    "制作可交互的，或静态的图形可视化，或一些文本摘要"
   ]
  },
  {
   "cell_type": "code",
   "execution_count": null,
   "metadata": {
    "collapsed": true
   },
   "outputs": [],
   "source": []
  }
 ],
 "metadata": {
  "kernelspec": {
   "display_name": "Python 3",
   "language": "python",
   "name": "python3"
  },
  "language_info": {
   "codemirror_mode": {
    "name": "ipython",
    "version": 3
   },
   "file_extension": ".py",
   "mimetype": "text/x-python",
   "name": "python",
   "nbconvert_exporter": "python",
   "pygments_lexer": "ipython3",
   "version": "3.6.3"
  }
 },
 "nbformat": 4,
 "nbformat_minor": 2
}
